{
 "cells": [
  {
   "cell_type": "markdown",
   "id": "be04e29c-3cd8-4720-9bee-f48245a4b903",
   "metadata": {},
   "source": [
    "# Power iteration function\n",
    "\n",
    "_Lavorato da: Anisa Bakiu_"
   ]
  },
  {
   "cell_type": "markdown",
   "id": "92683da8-157c-4bdf-af19-bac885ab6daa",
   "metadata": {},
   "source": [
    "## Dati di confronto"
   ]
  },
  {
   "cell_type": "code",
   "execution_count": 1,
   "id": "91727340-b4a0-4fc3-be1a-faa29e5ca058",
   "metadata": {},
   "outputs": [
    {
     "name": "stdout",
     "output_type": "stream",
     "text": [
      "[[60.01905118]]\n"
     ]
    }
   ],
   "source": [
    "import numpy as np\n",
    "import scipy.sparse as sparse\n",
    "\n",
    "n=3000\n",
    "A = sparse.rand(n, n, density=0.15, format=\"csr\", random_state=42)\n",
    "\n",
    "u0 = sparse.rand(n, 1, density=0.35, format=\"csr\", random_state=42)\n",
    "u1 = A@u0\n",
    "\n",
    "print( (u1.T@u0)/(u0.T@u0 ) )"
   ]
  },
  {
   "cell_type": "markdown",
   "id": "bac4507f-ecf4-49d6-96fc-ec71b9cc72b2",
   "metadata": {},
   "source": [
    "## `Met_PotenzeNorm_OK`"
   ]
  },
  {
   "cell_type": "code",
   "execution_count": 2,
   "id": "11bc699b-f91a-4342-a252-e4c5ef80c834",
   "metadata": {},
   "outputs": [],
   "source": [
    "def Met_PotenzeNorm_OK(u0,A,tol,it_max):\n",
    "    n_it = 0\n",
    "    \n",
    "    u1 = A@u0\n",
    "    \n",
    "    u1 = u1*(1/( np.linalg.norm( (u1).todense() ) ))\n",
    "      \n",
    "    lam0 = u1.T@(A@u1)/(u1.T@u1)\n",
    "    u0 = u1\n",
    "    \n",
    "    #Collezioniamo in una lista le varie approssimazioni di lambda\n",
    "    approx = []   \n",
    "    approx.append(lam0)\n",
    "    \n",
    "    #Usiamo anche un'altra lista per memorizzare le varie stime dell'errore\n",
    "    err = []\n",
    "    err.append(1)\n",
    "    \n",
    "    while((err[-1]>tol) & (n_it <it_max) ):\n",
    "        u1 = A@u0\n",
    "        u1 = u1*(1/( np.linalg.norm( (u1).todense() ) ))\n",
    "      \n",
    "        lam = u1.T@(A@u1)/(u1.T@u1)\n",
    "        \n",
    "        approx.append(np.asarray(lam))\n",
    "        print\n",
    "        err.append(abs(lam-lam0)/(1+abs(lam)))\n",
    "        lam0 = lam\n",
    "        u0 = u1\n",
    "        n_it = n_it+1\n",
    "        \n",
    "    return lam,u0,n_it,err, approx"
   ]
  },
  {
   "cell_type": "markdown",
   "id": "59bdc72a-c3f1-4196-b780-e8f7c08601f4",
   "metadata": {},
   "source": [
    "### Tempo di esecuzione"
   ]
  },
  {
   "cell_type": "code",
   "execution_count": 3,
   "id": "6073c943-fef2-4222-b52c-e86a1530fafb",
   "metadata": {},
   "outputs": [
    {
     "name": "stdout",
     "output_type": "stream",
     "text": [
      "Media del tempo di esecuzione 10 esecuzioni: 0.1590211217000615 sec\n"
     ]
    }
   ],
   "source": [
    "import timeit\n",
    "\n",
    "def wrapper():\n",
    "    lam, u, n_it, err, approx = Met_PotenzeNorm_OK(u0, A, 1e-15, 100)\n",
    "\n",
    "num_runs = 10\n",
    "execution_time = timeit.timeit(wrapper, number=num_runs)\n",
    "\n",
    "average_time = execution_time / num_runs\n",
    "print(f'Media del tempo di esecuzione {num_runs} esecuzioni: {average_time} sec')"
   ]
  },
  {
   "cell_type": "markdown",
   "id": "2067064d-c9a5-40b4-bc54-8f26a963c66c",
   "metadata": {},
   "source": [
    "### Errore di convergenza"
   ]
  },
  {
   "cell_type": "code",
   "execution_count": 4,
   "id": "8728d9c8-06e0-4b6e-9f5a-8d30c42b1139",
   "metadata": {},
   "outputs": [
    {
     "name": "stdout",
     "output_type": "stream",
     "text": [
      "iteration 12\n",
      "2.3678535166359404e-13\n"
     ]
    }
   ],
   "source": [
    "lam,u,n_it,err, approx = Met_PotenzeNorm_OK(u0,A,1e-15,100)\n",
    "print('iteration',n_it)\n",
    "print(np.linalg.norm( A@u - u*lam))"
   ]
  },
  {
   "cell_type": "markdown",
   "id": "80f39dd0-eb33-4bc1-b0a6-4373dbbe7c1d",
   "metadata": {},
   "source": [
    "## `Power_method`"
   ]
  },
  {
   "cell_type": "markdown",
   "id": "c1044782-8405-4a70-af36-6f5542a97e99",
   "metadata": {},
   "source": [
    "### Spiegazione"
   ]
  },
  {
   "cell_type": "markdown",
   "id": "710aa23f-f6d0-4a73-936a-eaab40d8587a",
   "metadata": {},
   "source": [
    "Come primo obiettivo ho cercato di ragionare come ottimizzare: \n",
    "`u1n2_2=(u1.T@u1).todense()` perche' occupa memoria e non e' efficiente. \n",
    "Pertanto il vettore iniziale `u0` viene convertito una sola volta all'inizio in un array NumPy denso e monodimensionale tramite `toarray().ravel()`.\n",
    "\n",
    "Lavorando con `u1 = A @ u0`, ci da' un risultato sempre sparso che richiede troppo tempo e spazio di memoria, questo si puo' risolvere di nuovo con l'utilizzo di nuovo di `toarray().ravel()`. \n",
    "\n",
    "L'utilizzo di `@` non e' efficiente, quindi sostituendo con `np.dot` e' una scelta migliore in vista anche delle trasformazioni che abbiamo fatto sopra. \n",
    "\n",
    "Nella riga `u1 = u1 * (1 / np.linalg.norm(u1.todense()))` ogni iterazione va a ripetere una conversione densa. Invece, `u0` è già un array denso, quindi `A @ u0` è un vettore denso. Pertanto, la normalizzazione viene fatta direttamente tramite operazioni del package NumPy che sono piu' veloci. "
   ]
  },
  {
   "cell_type": "code",
   "execution_count": 5,
   "id": "953c1ba1-6a27-45fa-828e-f61cbe00edc4",
   "metadata": {},
   "outputs": [],
   "source": [
    "import numpy as np\n",
    "from numpy.linalg import norm\n",
    "\n",
    "def power_method(u0, A, tol, it_max):\n",
    "    n_it = 0\n",
    "    u0 = u0.toarray().ravel()\n",
    "\n",
    "    u1 = A @ u0\n",
    "    u1 = u1 / norm(u1)\n",
    "\n",
    "    lam0 = np.dot(u1, A @ u1) / np.dot(u1, u1)\n",
    "    u0 = u1.copy()\n",
    "\n",
    "    approx = [lam0]\n",
    "    err = [1.0]\n",
    "\n",
    "    while err[-1] > tol and n_it < it_max:\n",
    "        u1 = A @ u0\n",
    "        u1 /= norm(u1) # utilizzo di /= e' piu' efficiente\n",
    "\n",
    "        Au1 = A @ u1\n",
    "        lam = np.dot(u1, Au1) / np.dot(u1, u1)\n",
    "\n",
    "        approx.append(lam)\n",
    "        err.append(abs(lam - lam0) / (1 + abs(lam)))\n",
    "        lam0 = lam\n",
    "        u0 = u1.copy()\n",
    "        n_it += 1\n",
    "\n",
    "    return lam, u0, n_it, err, approx"
   ]
  },
  {
   "cell_type": "markdown",
   "id": "c4b201d6-c8b0-4bfb-8214-8d4c8633bbc7",
   "metadata": {},
   "source": [
    "### Tempo di esecuzione"
   ]
  },
  {
   "cell_type": "code",
   "execution_count": 6,
   "id": "581f6a76-d9b2-45b4-b81c-5321d9174c9d",
   "metadata": {},
   "outputs": [
    {
     "name": "stdout",
     "output_type": "stream",
     "text": [
      "Media del tempo di esecuzione 10 esecuzioni: 0.03730876480003644 sec\n"
     ]
    }
   ],
   "source": [
    "import timeit\n",
    "\n",
    "def wrapper():\n",
    "    lam, u, n_it, err, approx = power_method(u0, A, 1e-15, 100)\n",
    "\n",
    "num_runs = 10\n",
    "execution_time = timeit.timeit(wrapper, number=num_runs)\n",
    "\n",
    "average_time = execution_time / num_runs\n",
    "print(f'Media del tempo di esecuzione {num_runs} esecuzioni: {average_time} sec')"
   ]
  },
  {
   "cell_type": "markdown",
   "id": "3912d661-1c9c-4cb0-b763-289783ccdafa",
   "metadata": {},
   "source": [
    "### Errore di convergenza"
   ]
  },
  {
   "cell_type": "code",
   "execution_count": 7,
   "id": "928b1859-c5a5-4690-b202-1470b8fd2b10",
   "metadata": {},
   "outputs": [
    {
     "name": "stdout",
     "output_type": "stream",
     "text": [
      "iteration 10\n",
      "2.3294701090078497e-12\n"
     ]
    }
   ],
   "source": [
    "lam,u,n_it,err, approx = power_method(u0,A,1e-15,100)\n",
    "print('iteration',n_it)\n",
    "print(np.linalg.norm( A@u - u*lam))"
   ]
  },
  {
   "cell_type": "markdown",
   "id": "70f5d723-0095-4c7d-89a2-b918e5962a39",
   "metadata": {},
   "source": [
    "# Conclusione"
   ]
  },
  {
   "cell_type": "markdown",
   "id": "0a8d62ab-d16b-4c59-8141-d2486d2f5e01",
   "metadata": {},
   "source": [
    "Alla fine possiamo concludere che l'efficienza della funzione e' aumentata grazie alla conversione iniziale del vettore sparso in un array NumPy denso monodimensionale (il concetto di flattening) tramite `.toarray().ravel().`\n",
    "\n",
    "Inoltre, riducendo la tolleranza `(tol)`, e' possibile ottenere velocemente un'approssimazione dell'autovalore dominante molto vicina a quella restituita di `scipy`."
   ]
  },
  {
   "cell_type": "markdown",
   "id": "b9c06b1c-dd5e-4984-b2b0-6dbc803dc5aa",
   "metadata": {},
   "source": [
    "# Materiale"
   ]
  },
  {
   "cell_type": "markdown",
   "id": "26367a46-719a-4f71-8d71-e8d311b3f454",
   "metadata": {},
   "source": [
    "1. https://en.wikipedia.org/wiki/Power_iteration\n",
    "2. https://ergodic.ugr.es/cphys/LECCIONES/FORTRAN/power_method.pdf\n",
    "3. https://realpython.com/python-flatten-list/"
   ]
  },
  {
   "cell_type": "code",
   "execution_count": null,
   "id": "2c4927a6-3632-4f0b-9bf1-a8408f9a2269",
   "metadata": {},
   "outputs": [],
   "source": []
  }
 ],
 "metadata": {
  "kernelspec": {
   "display_name": "Python 3 (ipykernel)",
   "language": "python",
   "name": "python3"
  },
  "language_info": {
   "codemirror_mode": {
    "name": "ipython",
    "version": 3
   },
   "file_extension": ".py",
   "mimetype": "text/x-python",
   "name": "python",
   "nbconvert_exporter": "python",
   "pygments_lexer": "ipython3",
   "version": "3.10.15"
  }
 },
 "nbformat": 4,
 "nbformat_minor": 5
}
